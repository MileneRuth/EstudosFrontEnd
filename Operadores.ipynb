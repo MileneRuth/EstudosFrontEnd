{
  "nbformat": 4,
  "nbformat_minor": 0,
  "metadata": {
    "colab": {
      "provenance": [],
      "authorship_tag": "ABX9TyMoB05LI92/rr0XEpRHmaEG",
      "include_colab_link": true
    },
    "kernelspec": {
      "name": "python3",
      "display_name": "Python 3"
    },
    "language_info": {
      "name": "python"
    }
  },
  "cells": [
    {
      "cell_type": "markdown",
      "metadata": {
        "id": "view-in-github",
        "colab_type": "text"
      },
      "source": [
        "<a href=\"https://colab.research.google.com/github/MileneRuth/EstudosFrontEnd/blob/main/Operadores.ipynb\" target=\"_parent\"><img src=\"https://colab.research.google.com/assets/colab-badge.svg\" alt=\"Open In Colab\"/></a>"
      ]
    },
    {
      "cell_type": "code",
      "execution_count": null,
      "metadata": {
        "colab": {
          "base_uri": "https://localhost:8080/"
        },
        "id": "GTAp8We62RUB",
        "outputId": "57fdd9f9-5024-40c0-f6ef-b038b7e61093"
      },
      "outputs": [
        {
          "output_type": "stream",
          "name": "stdout",
          "text": [
            "digite um número:25\n",
            "digite outro número: 23\n",
            "A soma entre 25 e 23 vale 48\n"
          ]
        }
      ],
      "source": [
        "n1 = int(input('digite um número:'))\n",
        "n2 = int(input('digite outro número: '))\n",
        "s = n1 + n2\n",
        "print('A soma entre {0} e {1} vale {2}'.format(n1, n2, s))"
      ]
    },
    {
      "cell_type": "code",
      "source": [
        "n1 = int(input('um número: '))\n",
        "n2 = int(input('outro número: '))\n",
        "s = n1 + n2\n",
        "print('a soma de {0} e {1} é {2}'.format(n1, n2, s))"
      ],
      "metadata": {
        "colab": {
          "base_uri": "https://localhost:8080/"
        },
        "id": "6tmTGPn0YovP",
        "outputId": "605a9e15-9f18-4b1f-9313-bf8fef1f3428"
      },
      "execution_count": null,
      "outputs": [
        {
          "output_type": "stream",
          "name": "stdout",
          "text": [
            "um número: 25\n",
            "outro número: 65\n",
            "a soma de 25 e 65 é 90\n"
          ]
        }
      ]
    },
    {
      "cell_type": "code",
      "source": [
        "n1 = int(input('coloque um valor: '))\n",
        "n2 = int(input('outro valor, please: '))\n",
        "s = n1 + n2\n",
        "print('a soma entre {0} e {1} vale {2}'.format(n1, n2, s))"
      ],
      "metadata": {
        "colab": {
          "base_uri": "https://localhost:8080/"
        },
        "id": "8xTfwG_ec7zM",
        "outputId": "ee5bec1a-8d19-4ca8-acf9-fd5abb517e34"
      },
      "execution_count": null,
      "outputs": [
        {
          "output_type": "stream",
          "name": "stdout",
          "text": [
            "coloque um valor: 562\n",
            "outro valor, please: 254\n",
            "a soma entre 562 e 254 vale 816\n"
          ]
        }
      ]
    },
    {
      "cell_type": "code",
      "source": [
        "n = bool(input('digite um valor: '))\n",
        "print(n)"
      ],
      "metadata": {
        "colab": {
          "base_uri": "https://localhost:8080/"
        },
        "id": "-liEdQYNesBN",
        "outputId": "0fd9eb1c-7fee-430b-d98f-2e9bcfe49314"
      },
      "execution_count": null,
      "outputs": [
        {
          "output_type": "stream",
          "name": "stdout",
          "text": [
            "digite um valor: \n",
            "False\n"
          ]
        }
      ]
    },
    {
      "cell_type": "code",
      "source": [
        "n = float(input('digite um valor: '))\n",
        "print(n)"
      ],
      "metadata": {
        "colab": {
          "base_uri": "https://localhost:8080/"
        },
        "id": "q7a7CilTe8Z6",
        "outputId": "1af6afae-8bcf-4ea0-dc60-f3268e16b93f"
      },
      "execution_count": null,
      "outputs": [
        {
          "output_type": "stream",
          "name": "stdout",
          "text": [
            "digite um valor: 20\n",
            "20.0\n"
          ]
        }
      ]
    },
    {
      "cell_type": "code",
      "source": [
        "n = str(input('digite um valor:'))\n",
        "print(n)"
      ],
      "metadata": {
        "colab": {
          "base_uri": "https://localhost:8080/"
        },
        "id": "OKLo9E1tfJpe",
        "outputId": "98a545e4-a46a-4607-f066-82e6ec09301a"
      },
      "execution_count": null,
      "outputs": [
        {
          "output_type": "stream",
          "name": "stdout",
          "text": [
            "digite um valor:23\n",
            "23\n"
          ]
        }
      ]
    },
    {
      "cell_type": "code",
      "source": [
        "n = input('digite um valor: ')\n",
        "print(n.isnumeric())"
      ],
      "metadata": {
        "colab": {
          "base_uri": "https://localhost:8080/"
        },
        "id": "97MaNtrHfaN5",
        "outputId": "a382e012-dcb0-4fd2-deda-da2b545ec746"
      },
      "execution_count": null,
      "outputs": [
        {
          "output_type": "stream",
          "name": "stdout",
          "text": [
            "digite um valor: oie\n",
            "False\n"
          ]
        }
      ]
    },
    {
      "cell_type": "code",
      "source": [
        "n = input('digite algo: ')\n",
        "print(n.isnumeric())"
      ],
      "metadata": {
        "colab": {
          "base_uri": "https://localhost:8080/"
        },
        "id": "WATB_XcEgkNr",
        "outputId": "b672711e-b312-41c8-d3c1-524b5c0d7b95"
      },
      "execution_count": null,
      "outputs": [
        {
          "output_type": "stream",
          "name": "stdout",
          "text": [
            "digite algo: 21\n",
            "True\n"
          ]
        }
      ]
    },
    {
      "cell_type": "code",
      "source": [
        "n = input('digite algo: ')\n",
        "print(n.isalpha())"
      ],
      "metadata": {
        "colab": {
          "base_uri": "https://localhost:8080/"
        },
        "id": "eSAJgRtrhKXW",
        "outputId": "be35e70f-3929-48c5-af10-7c0863f2404d"
      },
      "execution_count": null,
      "outputs": [
        {
          "output_type": "stream",
          "name": "stdout",
          "text": [
            "digite algo: oie\n",
            "True\n"
          ]
        }
      ]
    },
    {
      "cell_type": "code",
      "source": [
        "n = input('digite algo: ')\n",
        "print(n.isalnum())"
      ],
      "metadata": {
        "colab": {
          "base_uri": "https://localhost:8080/"
        },
        "id": "vGEj-3SRhsCq",
        "outputId": "bb0e5652-91be-466f-bb54-a2c31a45c2e4"
      },
      "execution_count": null,
      "outputs": [
        {
          "output_type": "stream",
          "name": "stdout",
          "text": [
            "digite algo: mnv21\n",
            "True\n"
          ]
        }
      ]
    },
    {
      "cell_type": "code",
      "source": [
        "filmes = ['malevola', 'cinderela', 'elsa' ]\n",
        "if 'malevola' in filmes:\n",
        "    print('sim,esta na lista')\n",
        "else:\n",
        "  print('não,esta na lista')\n"
      ],
      "metadata": {
        "colab": {
          "base_uri": "https://localhost:8080/"
        },
        "id": "N09D19IOic7M",
        "outputId": "2e65ca4b-db4c-4fec-89f7-5d74b8d9d5ea"
      },
      "execution_count": null,
      "outputs": [
        {
          "output_type": "stream",
          "name": "stdout",
          "text": [
            "sim,esta na lista\n"
          ]
        }
      ]
    },
    {
      "cell_type": "code",
      "source": [
        "n1 = int(input('digite um número: '))\n",
        "n2 = int(input('digite outro número: '))\n",
        "s = n1 + n2\n",
        "print('a soma entre {} e {} e igual a : {}'.format(n1, n2, s))"
      ],
      "metadata": {
        "colab": {
          "base_uri": "https://localhost:8080/"
        },
        "id": "5qzw05kq_54d",
        "outputId": "bd1f5d8c-b930-4786-f5c1-4785c7c01585"
      },
      "execution_count": null,
      "outputs": [
        {
          "output_type": "stream",
          "name": "stdout",
          "text": [
            "digite um número: 2546\n",
            "digite outro número: 21562\n",
            "a soma entre 2546 e 21562 e igual a : 24108\n"
          ]
        }
      ]
    },
    {
      "cell_type": "code",
      "source": [
        "a = input('digite algo: ')\n",
        "print('o tipo primitivo desse vaçpr é ',type(a))\n",
        "print('só tem espaços ?',a.isspace())\n",
        "print('é um numero ? ',a.isnumeric())\n",
        "print('é alfabetico ?',a.isalpha())\n",
        "print('é alfanumerico ?',a.isalnum())\n",
        "print('esta maiscúlas ?',a.isupper())\n",
        "print('esta minuscúlas ?',a.islower())\n",
        "print('esta capitalizado?',a.istitle())"
      ],
      "metadata": {
        "colab": {
          "base_uri": "https://localhost:8080/"
        },
        "id": "NwCZigIXSLQf",
        "outputId": "0320f49d-373d-4c86-e3b4-b6a0602b3bb7"
      },
      "execution_count": null,
      "outputs": [
        {
          "output_type": "stream",
          "name": "stdout",
          "text": [
            "digite algo: ruth\n",
            "o tipo primitivo desse vaçpr é  <class 'str'>\n",
            "só tem espaços ? False\n",
            "é um numero ?  False\n",
            "é alfabetico ? True\n",
            "é alfanumerico ? True\n",
            "esta maiscúlas ? False\n",
            "esta minuscúlas ? True\n",
            "esta capitalizado? False\n"
          ]
        }
      ]
    },
    {
      "cell_type": "code",
      "source": [
        "5+2== 7\n",
        "5-2== 3\n",
        "5*2== 10\n",
        "5/2== 2.5\n",
        "5**2==25\n",
        "5//2==2\n",
        "5%2==1"
      ],
      "metadata": {
        "colab": {
          "base_uri": "https://localhost:8080/"
        },
        "id": "clQmYvYTXg_Z",
        "outputId": "4ba88e26-0fde-4d70-a1a9-28b97a7be7b4"
      },
      "execution_count": null,
      "outputs": [
        {
          "output_type": "execute_result",
          "data": {
            "text/plain": [
              "True"
            ]
          },
          "metadata": {},
          "execution_count": 44
        }
      ]
    },
    {
      "cell_type": "code",
      "source": [
        "5+3*2==11"
      ],
      "metadata": {
        "colab": {
          "base_uri": "https://localhost:8080/"
        },
        "id": "_D16ckMhZBe0",
        "outputId": "528e260e-9128-43f7-8ae8-025dda1b3f03"
      },
      "execution_count": null,
      "outputs": [
        {
          "output_type": "execute_result",
          "data": {
            "text/plain": [
              "True"
            ]
          },
          "metadata": {},
          "execution_count": 45
        }
      ]
    },
    {
      "cell_type": "code",
      "source": [
        "3*5+4**2==31"
      ],
      "metadata": {
        "colab": {
          "base_uri": "https://localhost:8080/"
        },
        "id": "YJptFg10ZO6W",
        "outputId": "0ee077c7-330f-4a0f-df1e-057e30c87fde"
      },
      "execution_count": null,
      "outputs": [
        {
          "output_type": "execute_result",
          "data": {
            "text/plain": [
              "True"
            ]
          },
          "metadata": {},
          "execution_count": 46
        }
      ]
    },
    {
      "cell_type": "code",
      "source": [
        "3*(5+4)**4==243"
      ],
      "metadata": {
        "colab": {
          "base_uri": "https://localhost:8080/"
        },
        "id": "pIKVCrTTZdHN",
        "outputId": "ab5bbab4-35aa-48e2-abb8-f3959ea5d50a"
      },
      "execution_count": null,
      "outputs": [
        {
          "output_type": "execute_result",
          "data": {
            "text/plain": [
              "False"
            ]
          },
          "metadata": {},
          "execution_count": 47
        }
      ]
    },
    {
      "cell_type": "code",
      "source": [
        "n1 = int(input('digite um valor: '))\n",
        "n2 = int(input('digite outro valor: '))\n",
        "s = n1+n2\n",
        "m = n1*n2\n",
        "d = n1/n2\n",
        "di = n1//n2\n",
        "e = n1**n2\n",
        "print('a soma é {}, o produto é {}, a divisão é {:.3f}'.format(s, m, d,),end=' >>>>>')"
      ],
      "metadata": {
        "colab": {
          "base_uri": "https://localhost:8080/"
        },
        "id": "QZPUIxh2Z1sU",
        "outputId": "3307bb28-e9a0-461e-930c-0f90ac1779df"
      },
      "execution_count": null,
      "outputs": [
        {
          "output_type": "stream",
          "name": "stdout",
          "text": [
            "digite um valor: 256\n",
            "digite outro valor: 213\n",
            "a soma é 469, o produto é 54528, a divisão é 1.202 >>>>>"
          ]
        }
      ]
    },
    {
      "cell_type": "code",
      "source": [
        "n1 = int(input('digite um valor:'))\n",
        "s = n1 - 1\n",
        "d = n1 + 1\n",
        "print('O antecessor desse número é {},o sucessor desse número é : {}'.format(s, d),end='    <3')"
      ],
      "metadata": {
        "colab": {
          "base_uri": "https://localhost:8080/"
        },
        "id": "bTVG7enCsBxI",
        "outputId": "f1ff6202-f099-4f8d-cb4e-8b325ae10140"
      },
      "execution_count": null,
      "outputs": [
        {
          "output_type": "stream",
          "name": "stdout",
          "text": [
            "digite um valor:6512498\n",
            "O antecessor desse número é 6512497,o sucessor desse número é : 6512499    <3"
          ]
        }
      ]
    },
    {
      "cell_type": "markdown",
      "source": [
        "correção guanabara, se você não for itilizar as vareaveis, não precisa colocar elas no codigo"
      ],
      "metadata": {
        "id": "DzrIuDzq7Tme"
      }
    },
    {
      "cell_type": "code",
      "source": [
        "n = int(input('digite um valor: '))\n",
        "print('Analisando o valor {}, Seu antecessor é: {} e o antecessor é: {}'.format(n, (n-1), (n+2)))"
      ],
      "metadata": {
        "colab": {
          "base_uri": "https://localhost:8080/"
        },
        "id": "9VM7foXS7SPw",
        "outputId": "f9ddc2d8-9dfa-4e5e-bcf6-c62d1f735c33"
      },
      "execution_count": 4,
      "outputs": [
        {
          "output_type": "stream",
          "name": "stdout",
          "text": [
            "digite um valor: 85\n",
            "Analisando o valor 85, Seu antecessor é: 84 e o antecessor é: 87\n"
          ]
        }
      ]
    },
    {
      "cell_type": "code",
      "source": [
        "n1 = int(input('Digite um número: '))\n",
        "m = n1*2\n",
        "m2 = n1*3\n",
        "d = n1**(0.5)\n",
        "print('O dobro de número é: {},  o triplo: {},a raiz quadrada é:{:.2f} '.format(m, m2, d))\n"
      ],
      "metadata": {
        "colab": {
          "base_uri": "https://localhost:8080/"
        },
        "id": "D7EvV9_ttgdi",
        "outputId": "6072565a-bd91-42b3-f4cc-352cf362f4cc"
      },
      "execution_count": null,
      "outputs": [
        {
          "output_type": "stream",
          "name": "stdout",
          "text": [
            "Digite um número: 254\n",
            "O dobro de número é: 508, o triplo: 762,a raiz quadrada é:15.94 \n"
          ]
        }
      ]
    },
    {
      "cell_type": "code",
      "source": [
        "n = int(input('Digite um valor: '))\n",
        "print('O dobro de: {}, e igual á: {}'.format(n, (n*2)))\n",
        "print('O triplo de: {}, é igual á: {}. \\n A raiz quadrada de: {} é igual: {:.2f}'.format(n, (n*3), n, pow(n, (1/2))))"
      ],
      "metadata": {
        "colab": {
          "base_uri": "https://localhost:8080/"
        },
        "id": "L-2TPnOZ91jd",
        "outputId": "ff4d4276-f8b5-47cf-83ad-65cbed0d0138"
      },
      "execution_count": 18,
      "outputs": [
        {
          "output_type": "stream",
          "name": "stdout",
          "text": [
            "Digite um valor: 81\n",
            "O dobro de: 81, e igual á: 162\n",
            "O triplo de: 81, é igual á: 243. \n",
            " A raiz quadrada de: 81 é igual: 9.00\n"
          ]
        }
      ]
    },
    {
      "cell_type": "code",
      "source": [
        "print('vamos calcular suas notas?')\n",
        "n1 = float(input('digite sua nota 1: '))\n",
        "n2 = float(input('digite sua note 2: '))\n",
        "m = (n1+n2)/2\n",
        "print('sua media é: {:.1f}'.format(m))"
      ],
      "metadata": {
        "colab": {
          "base_uri": "https://localhost:8080/"
        },
        "id": "-DrY3Qgtylf_",
        "outputId": "2bdf074c-188e-4d82-d7db-68008a5272fe"
      },
      "execution_count": null,
      "outputs": [
        {
          "output_type": "stream",
          "name": "stdout",
          "text": [
            "vamos calcular suas notas?\n",
            "digite sua nota 1: 8.9\n",
            "digite sua note 2: 5.8\n",
            "sua media é: 7.3\n"
          ]
        }
      ]
    },
    {
      "cell_type": "code",
      "source": [
        "n1 = float(input('Primeira nota do aluno: '))\n",
        "n2 = float(input('Segunda nota do aluno: '))\n",
        "m = (n1 + n2)/2\n",
        "print('A media entre {:.1f} e {:.1f} é igual : {:.1f}'.format(n1, n2, m))\n"
      ],
      "metadata": {
        "colab": {
          "base_uri": "https://localhost:8080/"
        },
        "id": "nfWzc1LSLaFs",
        "outputId": "21b29e6f-11af-4031-eb6d-a463fdb24887"
      },
      "execution_count": 22,
      "outputs": [
        {
          "output_type": "stream",
          "name": "stdout",
          "text": [
            "Primeira nota do aluno: 2.8\n",
            "Segunda nota do aluno: 9.5\n",
            "A media entre 2.8 e 9.5 é igual : 6.2\n"
          ]
        }
      ]
    },
    {
      "cell_type": "code",
      "source": [
        "n1 = float(input('Digite um valor: {}, corresponde a {}mc '))\n",
        "m = n1*100\n",
        "n = n1*1000\n",
        "print('esse valo rm milimetros é: {}. Agora ele em centimetro é: {}'.format(m, n), end='   :p')"
      ],
      "metadata": {
        "colab": {
          "base_uri": "https://localhost:8080/"
        },
        "id": "0_YoMUSv1ZsA",
        "outputId": "008aeb21-2bbd-476a-8740-25072293e306"
      },
      "execution_count": 31,
      "outputs": [
        {
          "output_type": "stream",
          "name": "stdout",
          "text": [
            "Digite um valor: {}, corresponde a {}mc 1000\n",
            "esse valo rm milimetros é: 100000.0. Agora ele em centimetro é: 1000000.0   :p"
          ]
        }
      ]
    },
    {
      "cell_type": "code",
      "source": [
        "medida = float(input('digite uma distancia em metros: '))\n",
        "cm = medida*100\n",
        "mm = medida*1000\n",
        "print('A media de {}m, corresponde a {:.0f}cm, {:.0f}mm'.format(medida, cm, mm))"
      ],
      "metadata": {
        "colab": {
          "base_uri": "https://localhost:8080/"
        },
        "id": "rsSBcx-YOI1z",
        "outputId": "6cbcc803-a68b-4795-ca6e-1beb530d8b74"
      },
      "execution_count": 36,
      "outputs": [
        {
          "output_type": "stream",
          "name": "stdout",
          "text": [
            "digite uma distancia em metros: 2.5\n",
            "A media de 2.5m, corresponde a 250cm, 2500mm\n"
          ]
        }
      ]
    },
    {
      "cell_type": "code",
      "source": [
        "medida = float(input('digite uma valor em metros: '))\n",
        "km = medida*0.001\n",
        "hm = medida*0.010\n",
        "dam = medida*0.10\n",
        "cm = medida*100\n",
        "mm = medida*1000\n",
        "print('a medida de {}m, correponde a: {}km, \\n{}hm, \\n{}dam, \\n{:.0f}cm, \\n{:.0f}mm'.format(medida, km, hm, dam, cm, mm ))"
      ],
      "metadata": {
        "colab": {
          "base_uri": "https://localhost:8080/"
        },
        "id": "Li5IfDH9VqTy",
        "outputId": "e046e47f-83f5-45e7-a0d2-468512faf3d5"
      },
      "execution_count": 42,
      "outputs": [
        {
          "output_type": "stream",
          "name": "stdout",
          "text": [
            "digite uma valor em metros: 2.5\n",
            "a medida de 2.5m, correponde a: 0.0025km, \n",
            "0.025hm, \n",
            "0.25dam, \n",
            "250cm, \n",
            "2500mm\n"
          ]
        }
      ]
    },
    {
      "cell_type": "code",
      "source": [
        "n1 = int(input('digite um valor: '))\n",
        "m = n1*1,n1*2,n1*3,n1*4,n1*5,n1*6,n1*7,n1*8,n1*9,n1*10\n",
        "s = n1+1, n1+2,n1+3,n1+4,n1+5,n1+6,n1+7,n1+8,n1+9,n1+10\n",
        "d = n1/1, n1/2,n1/3,n1/4,n1/5, n1/6,n1/7,n1/8,n1/9,n1/10\n",
        "print('a tabuada de soma do valor é: {}'.format(s))\n",
        "print('A tabuada de multiplicação é: {}'.format(m))\n",
        "print('A tabuada de divisão desse valor é {}'.format(d))"
      ],
      "metadata": {
        "colab": {
          "base_uri": "https://localhost:8080/"
        },
        "id": "GfdQUgiqQbKD",
        "outputId": "56ea086d-3030-454f-d81c-47c2e77a84a5"
      },
      "execution_count": null,
      "outputs": [
        {
          "output_type": "stream",
          "name": "stdout",
          "text": [
            "digite um valor: 9\n",
            "a tabuada de soma do valor é: (10, 11, 12, 13, 14, 15, 16, 17, 18, 19)\n",
            "A tabuada de multiplicação é: (9, 18, 27, 36, 45, 54, 63, 72, 81, 90)\n",
            "A tabuada de divisão desse valor é (9.0, 4.5, 3.0, 2.25, 1.8, 1.5, 1.2857142857142858, 1.125, 1.0, 0.9)\n"
          ]
        }
      ]
    },
    {
      "cell_type": "code",
      "source": [
        "n = int(input('Digite um numero: '))\n",
        "print('{} x {} = {}'.format(n, 1, n*1))\n",
        "print('{} x {} = {}'.format(n, 2, n*2))\n",
        "print('{} x {} = {}'.format(n, 3, n*3))\n",
        "print('{} x {} = {}'.format(n, 4, n*4))\n",
        "print('{} x {} = {}'.format(n, 5, n*5))\n",
        "print('{} x {} = {}'.format(n, 6, n*6))\n",
        "print('{} x {} = {}'.format(n, 7, n*7))\n",
        "print('{} x {} = {}'.format(n, 8, n*8))\n",
        "print('{} x {} = {}'.format(n, 9, n*9))\n",
        "print('{} x {} = {}'.format(n, 10, n*10))"
      ],
      "metadata": {
        "colab": {
          "base_uri": "https://localhost:8080/"
        },
        "id": "GJfJ85dtYdZT",
        "outputId": "5c09b64e-5507-4a8b-e4a3-8e825ac9abf9"
      },
      "execution_count": 54,
      "outputs": [
        {
          "output_type": "stream",
          "name": "stdout",
          "text": [
            "Digite um numero: 4\n",
            "4 x 1 = 4\n",
            "4 x 2 = 8\n",
            "4 x 3 = 12\n",
            "4 x 4 = 16\n",
            "4 x 5 = 20\n",
            "4 x 6 = 24\n",
            "4 x 7 = 28\n",
            "4 x 8 = 32\n",
            "4 x 9 = 36\n",
            "4 x 10 = 40\n"
          ]
        }
      ]
    },
    {
      "cell_type": "code",
      "source": [
        "n1 = float(input('quanto em dinheiro tem em sua carteira: '))\n",
        "s = n1*3.27\n",
        "print('esse e o valor em dolares que você tem: {}'.format(s))"
      ],
      "metadata": {
        "colab": {
          "base_uri": "https://localhost:8080/"
        },
        "id": "_SVlHw6NTT45",
        "outputId": "6352c338-f226-4a57-db7f-0f19ac21b28f"
      },
      "execution_count": null,
      "outputs": [
        {
          "output_type": "stream",
          "name": "stdout",
          "text": [
            "quanto em dinheiro tem em sua carteira: 15\n",
            "esse e o valor em dolares que você tem: 49.05\n"
          ]
        }
      ]
    },
    {
      "cell_type": "code",
      "source": [
        "real= float(input('quanto de dinheiro você tem na carteira? R$ '))\n",
        "dolar = real/3.27\n",
        "print('com tantos R${:.2f} você pode coprar U${:.2f}'.format(real, dolar))\n"
      ],
      "metadata": {
        "colab": {
          "base_uri": "https://localhost:8080/"
        },
        "id": "_PITtMXKCLeX",
        "outputId": "452e3b9c-7c93-4d82-e4d8-1d9730bfc1e7"
      },
      "execution_count": 55,
      "outputs": [
        {
          "output_type": "stream",
          "name": "stdout",
          "text": [
            "quanto de dinheiro você tem na carteira? R$ 25.60\n",
            "com tantos R$25.60 você pode coprar U$7.83\n"
          ]
        }
      ]
    },
    {
      "cell_type": "markdown",
      "source": [
        "esse deu errado."
      ],
      "metadata": {
        "id": "p8G1j7Ote5x5"
      }
    },
    {
      "cell_type": "code",
      "source": [
        "n1 = float(input('digite a altura de sua parede: '))\n",
        "n2 = float(input('digete a largura da sua parede: '))\n",
        "s = n1*n2\n",
        "v = s/2\n",
        "print(' a area e de: {:.1f}, E em metros quadrado é {:.1f}'.format(s,v))"
      ],
      "metadata": {
        "colab": {
          "base_uri": "https://localhost:8080/"
        },
        "id": "FoVg46Ajboac",
        "outputId": "4dee3fbb-3944-49e8-bfb7-b0cdbd088fee"
      },
      "execution_count": null,
      "outputs": [
        {
          "output_type": "stream",
          "name": "stdout",
          "text": [
            "digite a altura de sua parede: 12.20\n",
            "digete a largura da sua parede: 25.52\n",
            " a area e de: 311.3, E em metros quadrado é 155.7\n"
          ]
        }
      ]
    },
    {
      "cell_type": "code",
      "source": [
        "al = float(input('digite a altura da sua parede em metros: '))\n",
        "la = float(input('digite a largura da sua parede em metros: '))\n",
        "ar = al*la\n",
        "tn = ar/2\n",
        "print(' A area da parede é: {:.1f} metros quadrados.'.format(ar))\n",
        "print('é necessarios {} litros de tinta para pintar a parede.'.format(tn))"
      ],
      "metadata": {
        "colab": {
          "base_uri": "https://localhost:8080/"
        },
        "id": "Kxy4o3-Ne4jR",
        "outputId": "19dd6b77-bae9-455b-ff74-47ef08c1e5ce"
      },
      "execution_count": null,
      "outputs": [
        {
          "output_type": "stream",
          "name": "stdout",
          "text": [
            "digite a altura da sua parede em metros: 15.20\n",
            "digite a largura da sua parede em metros: 20.60\n",
            " A area da parede é: 313.1 metros quadrados.\n",
            "é necessarios 156.56 litros de tinta para pintar a parede.\n"
          ]
        }
      ]
    },
    {
      "cell_type": "code",
      "source": [
        "larg = float(input('Digite a largura da parede? '))\n",
        "altu = float(input('Digite a altura da parede? '))\n",
        "area = larg*altu\n",
        "tinta = area/2\n",
        "print('Sua parede tem a dimensão de {}x{} e sua aréa e de: {}m².'.format(larg, altu, area))\n",
        "print('Para pintar sua parede e necessario {}l de tinta. '.format(tinta))\n"
      ],
      "metadata": {
        "colab": {
          "base_uri": "https://localhost:8080/"
        },
        "id": "mS8mNG3DQJT7",
        "outputId": "63e4d40d-9d1c-4ca9-8120-4859a65d64d1"
      },
      "execution_count": 58,
      "outputs": [
        {
          "output_type": "stream",
          "name": "stdout",
          "text": [
            "Digite a largura da parede? 1.5\n",
            "Digite a altura da parede? 6.5\n",
            "Sua parede tem a dimensão de 1.5x6.5 e sua aréa e de: 9.75m².\n",
            "Para pintar sua parede e necessario 4.875l de tinta. \n"
          ]
        }
      ]
    },
    {
      "cell_type": "code",
      "source": [
        "pr = float(input('digite o preço do produto: '))\n",
        "des = 5*pr/100\n",
        "d = pr - des\n",
        "print('aplicando o desconto de 5% fica no valor de R$: {:.2f}'.format(d))"
      ],
      "metadata": {
        "colab": {
          "base_uri": "https://localhost:8080/"
        },
        "id": "5XcRpbQFg7AH",
        "outputId": "30d6cd03-f7df-4aa7-f5a7-7e3b0048717e"
      },
      "execution_count": null,
      "outputs": [
        {
          "output_type": "stream",
          "name": "stdout",
          "text": [
            "digite o preço do produto: 25.50\n",
            "aplicando o desconto de 5% fica no valor de R$: 24.23\n"
          ]
        }
      ]
    },
    {
      "cell_type": "code",
      "source": [
        "preço = float(input('quanto custou o produto? R$ '))\n",
        "des = preço - (preço*5/100)\n",
        "print('O valor R${:.2f} com os 5% de desconto ficara R${:.2f}'.format(preço, des))"
      ],
      "metadata": {
        "colab": {
          "base_uri": "https://localhost:8080/"
        },
        "id": "01BeQmhqWV7y",
        "outputId": "434b86ec-5ad3-4842-a235-ed6f0d96d73d"
      },
      "execution_count": 61,
      "outputs": [
        {
          "output_type": "stream",
          "name": "stdout",
          "text": [
            "quanto custou o produto? R$ 25.50\n",
            "O valor R$25.50 com os 5% de desconto ficara R$24.23\n"
          ]
        }
      ]
    },
    {
      "cell_type": "code",
      "source": [
        "pr = float(input('digite o valor do seu salario: '))\n",
        "aum = 15*pr/100\n",
        "d = pr + aum\n",
        "print('Com o aumento de 15% seu salario agora e R$: {:.3f}'.format(d))"
      ],
      "metadata": {
        "colab": {
          "base_uri": "https://localhost:8080/"
        },
        "id": "dpeSKul3jo0B",
        "outputId": "5054938e-22b4-4d36-fda6-4255cdb0c05c"
      },
      "execution_count": null,
      "outputs": [
        {
          "output_type": "stream",
          "name": "stdout",
          "text": [
            "digite o valor do seu salario: 1.775\n",
            "Com o aumento de 15% seu salario agora e R$: 1.864\n"
          ]
        }
      ]
    },
    {
      "cell_type": "code",
      "source": [
        "pr = float(input('Digite o valor do seu salario: '))\n",
        "aum = pr + (pr * 15 / 100)\n",
        "print('Seu salario de R${:.2f} com o amuento de 15% seu salario vai para R${:.2f}'.format(pr, aum))\n"
      ],
      "metadata": {
        "colab": {
          "base_uri": "https://localhost:8080/"
        },
        "id": "32LW7GyCYASb",
        "outputId": "282e6b37-abbc-4236-cf26-73f70df41284"
      },
      "execution_count": 71,
      "outputs": [
        {
          "output_type": "stream",
          "name": "stdout",
          "text": [
            "Digite o valor do seu salario: 1000\n",
            "Seu salario de R$1000.00 com o amuento de 15% seu salario vai para R$1150.00\n"
          ]
        }
      ]
    }
  ]
}